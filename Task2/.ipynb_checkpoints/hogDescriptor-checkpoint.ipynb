{
 "cells": [
  {
   "cell_type": "markdown",
   "id": "791b767e",
   "metadata": {},
   "source": [
    "# MASONGO UMAR\n",
    "1800738510         2018/HD05/1967U\n",
    "## MASTER OF SCIENCE IN COMPUTER SCIENCE\n",
    "COMPUTER VISION PROJECT EXAM"
   ]
  },
  {
   "cell_type": "code",
   "execution_count": 1,
   "id": "3b813172",
   "metadata": {},
   "outputs": [],
   "source": [
    "import cv2\n",
    "import numpy as np"
   ]
  },
  {
   "cell_type": "markdown",
   "id": "9fec7316",
   "metadata": {},
   "source": [
    "The whole code in this file enables the creation of a descriptor object that stores \n",
    "information about crops (cassava, bananas, etc)features to be extracted\n"
   ]
  },
  {
   "cell_type": "code",
   "execution_count": 3,
   "id": "d0e8f8f7",
   "metadata": {},
   "outputs": [],
   "source": [
    "class Descriptor:\n",
    "    \n",
    "    # Descriptor class that combines feature descriptors into a single descriptor\n",
    "    # to produce a feature vector for an input image.\n",
    "    \n",
    "    def __init__(self, hog_features=False, hist_features=False,\n",
    "                     spatial_features=False, hog_lib=\"cv\", size=(64,64),\n",
    "                     hog_bins=9, pix_per_cell=(8,8), cells_per_block=(2,2),\n",
    "                     block_stride=None, block_norm=\"L1\", transform_sqrt=True,\n",
    "                     signed_gradient=False, hist_bins=16, spatial_size=(16,16)):\n",
    "            \n",
    "        # Set feature parameters for HOG using either the OpenCV implementation \n",
    "        # cv2.HOGDescriptor or scikit-image implementation skimage.feature.hog implementation hog_lib\n",
    "        \n",
    "        self.hog_features = hog_features\n",
    "        self.hist_features = hist_features\n",
    "        self.spatial_features = spatial_features\n",
    "        self.size = size\n",
    "        self.hog_lib = hog_lib\n",
    "        self.pix_per_cell = pix_per_cell\n",
    "        self.cells_per_block = cells_per_block\n",
    "        \n",
    "        winSize = size\n",
    "        cellSize = pix_per_cell\n",
    "        blockSize = (cells_per_block[0] * cellSize[0],\n",
    "                         cells_per_block[1] * cellSize[1])\n",
    "            \n",
    "        if block_stride is not None:\n",
    "            blockStride = self.block_stride\n",
    "        else:\n",
    "            blockStride = (int(blockSize[0] / 2), int(blockSize[1] / 2))\n",
    "\n",
    "        nbins = hog_bins\n",
    "        derivAperture = 1\n",
    "        winSigma = -1.\n",
    "        histogramNormType = 0\n",
    "        L2HysThreshold = 0.2\n",
    "        gammaCorrection = 1\n",
    "        nlevels = 64\n",
    "        signedGradients = signed_gradient\n",
    "\n",
    "        self.HOGDescriptor = cv2.HOGDescriptor(winSize, blockSize,\n",
    "                    blockStride, cellSize, nbins, derivAperture, winSigma,\n",
    "                    histogramNormType, L2HysThreshold, gammaCorrection,\n",
    "                    nlevels, signedGradients)\n",
    "        \n",
    "    def getFeatureVector(self, image):\n",
    "\n",
    "        # Return the feature vector for an image\n",
    "\n",
    "        if image.shape[:2] != self.size:\n",
    "            image = cv2.resize(image, self.size, interpolation=cv2.INTER_AREA)\n",
    "\n",
    "        feature_vector = np.array([])\n",
    "\n",
    "        if self.hog_features:\n",
    "            feature_vector  = np.hstack(\n",
    "                (feature_vector, self.HOGDescriptor.compute(image)[:,]))\n",
    "\n",
    "        if self.hist_features:\n",
    "            # np.histogram() returns a tuple if given a 2D array and an array\n",
    "            # if given a 3D array. \n",
    "            # To maintain compatibility with other functions in the object detection pipeline,\n",
    "            # check that the input array has three dimensions. Add axis if necessary.\n",
    "            # Note that histogram bin range assumes uint8 array.\n",
    "            if len(image.shape) < 3:\n",
    "                image = image[:, :, np.newaxis]\n",
    "\n",
    "            hist_vector = np.array([])\n",
    "            for channel in range(image.shape[2]):\n",
    "                channel_hist = np.histogram(image[:, :, channel],\n",
    "                        bins=self.hist_bins, range=(0, 255))[0]\n",
    "                hist_vector = np.hstack((hist_vector, channel_hist))\n",
    "            feature_vector = np.hstack((feature_vector, hist_vector))\n",
    "\n",
    "        if self.spatial_features:\n",
    "            spatial_image = cv2.resize(image, self.spatial_size,\n",
    "                    interpolation=cv2.INTER_AREA)\n",
    "            spatial_vector = spatial_image.ravel()\n",
    "            feature_vector = np.hstack((feature_vector, spatial_vector))\n",
    "        \n",
    "        return feature_vector"
   ]
  },
  {
   "cell_type": "code",
   "execution_count": null,
   "id": "408816b0",
   "metadata": {},
   "outputs": [],
   "source": []
  }
 ],
 "metadata": {
  "kernelspec": {
   "display_name": "Python 3 (ipykernel)",
   "language": "python",
   "name": "python3"
  },
  "language_info": {
   "codemirror_mode": {
    "name": "ipython",
    "version": 3
   },
   "file_extension": ".py",
   "mimetype": "text/x-python",
   "name": "python",
   "nbconvert_exporter": "python",
   "pygments_lexer": "ipython3",
   "version": "3.9.12"
  }
 },
 "nbformat": 4,
 "nbformat_minor": 5
}
