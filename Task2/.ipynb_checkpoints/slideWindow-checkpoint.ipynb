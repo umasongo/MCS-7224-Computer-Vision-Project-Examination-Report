{
 "cells": [
  {
   "cell_type": "markdown",
   "id": "6c48750f",
   "metadata": {},
   "source": [
    "# MASONGO UMAR\n",
    "1800738510         2018/HD05/1967U\n",
    "## MASTER OF SCIENCE IN COMPUTER SCIENCE\n",
    "COMPUTER VISION PROJECT EXAM"
   ]
  },
  {
   "cell_type": "code",
   "execution_count": 1,
   "id": "9e1c91ca",
   "metadata": {},
   "outputs": [],
   "source": [
    "import numpy as np\n",
    "import cv2\n",
    "import os\n",
    "from numpy import *\n",
    "import sys\n",
    "import matplotlib.pyplot as plt\n",
    "%matplotlib inline"
   ]
  },
  {
   "cell_type": "markdown",
   "id": "423cbd25",
   "metadata": {},
   "source": [
    "The sliding window is used to determine which parts of an image contain an object."
   ]
  },
  {
   "cell_type": "code",
   "execution_count": 2,
   "id": "b1723eac",
   "metadata": {},
   "outputs": [],
   "source": [
    "def slidingWindow(image_size, init_size=(64,64), x_overlap=0.0463, y_step=0.0261,\n",
    "        x_range=(0, 1.0), y_range=(0, 1.0), scale=1.0):\n",
    "\n",
    "    windows = []\n",
    "    h, w = image_size[1], image_size[0]\n",
    "    \n",
    "    for y in range(int(y_range[0] * h), int(y_range[1] * h), int(y_step * h)):\n",
    "        win_width = int(init_size[0] + (scale * (y - (y_range[0] * h))))\n",
    "        win_height = int(init_size[1] + (scale * (y - (y_range[0] * h))))\n",
    "        if y + win_height > int(y_range[1] * h) or win_width > w:\n",
    "            break\n",
    "        x_step = int((1 - x_overlap) * win_width)\n",
    "        for x in range(int(x_range[0] * w), int(x_range[1] * w), x_step):\n",
    "            windows.append((x, y, x + win_width, y + win_height))\n",
    "\n",
    "    return windows\n",
    "\n",
    "def to_matrix(feature_vector, n):\n",
    "        return [feature_vector[i:i+n] for i in range(0, len(feature_vector), n)]"
   ]
  },
  {
   "cell_type": "code",
   "execution_count": null,
   "id": "d1eb1410",
   "metadata": {},
   "outputs": [],
   "source": []
  }
 ],
 "metadata": {
  "kernelspec": {
   "display_name": "Python 3 (ipykernel)",
   "language": "python",
   "name": "python3"
  },
  "language_info": {
   "codemirror_mode": {
    "name": "ipython",
    "version": 3
   },
   "file_extension": ".py",
   "mimetype": "text/x-python",
   "name": "python",
   "nbconvert_exporter": "python",
   "pygments_lexer": "ipython3",
   "version": "3.9.12"
  }
 },
 "nbformat": 4,
 "nbformat_minor": 5
}
